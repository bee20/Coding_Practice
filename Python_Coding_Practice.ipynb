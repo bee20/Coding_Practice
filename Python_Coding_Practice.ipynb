{
  "cells": [
    {
      "cell_type": "markdown",
      "metadata": {
        "id": "view-in-github",
        "colab_type": "text"
      },
      "source": [
        "<a href=\"https://colab.research.google.com/github/bee20/Coding_Practice/blob/main/Python_Coding_Practice.ipynb\" target=\"_parent\"><img src=\"https://colab.research.google.com/assets/colab-badge.svg\" alt=\"Open In Colab\"/></a>"
      ]
    },
    {
      "cell_type": "code",
      "execution_count": null,
      "metadata": {
        "colab": {
          "base_uri": "https://localhost:8080/"
        },
        "id": "rYCcNSYOqClc",
        "outputId": "414df187-ad1e-4e2c-ab1f-64c64c8b782e"
      },
      "outputs": [
        {
          "name": "stdout",
          "output_type": "stream",
          "text": [
            "[5, 8, 9]\n"
          ]
        }
      ],
      "source": [
        "#find missing number -> O(n^2) complexity\n",
        "l = [3,4,6,7,10]\n",
        "\n",
        "l2 = []\n",
        "for i in range(l[0],l[-1]+1):\n",
        "  l2.append(i)\n",
        "# print(l2)\n",
        "\n",
        "l3 = []\n",
        "for j in l2:\n",
        "  if j not in l:\n",
        "    l3.append(j)\n",
        "print(l3)\n"
      ]
    },
    {
      "cell_type": "code",
      "execution_count": null,
      "metadata": {
        "colab": {
          "base_uri": "https://localhost:8080/"
        },
        "id": "OAB-6l97VFhn",
        "outputId": "83cdef30-97fc-4d31-aeda-3bc5737538be"
      },
      "outputs": [
        {
          "name": "stdout",
          "output_type": "stream",
          "text": [
            "5 8 9 "
          ]
        }
      ],
      "source": [
        "#find missing number -> O(n)complexity\n",
        "lst = [3,4,6,7,10]\n",
        "n = len(lst)\n",
        "b=[0]*(lst[ n-1]+1)\n",
        "\n",
        "for i in range(n):\n",
        "  # print(b[lst[i] ])\n",
        "  b[lst[i] ]=1\n",
        "\n",
        "for i in range(lst[0],lst[n-1]+1):\n",
        "  if b[i]==0:\n",
        "    print(i,end=\" \")"
      ]
    },
    {
      "cell_type": "code",
      "execution_count": null,
      "metadata": {
        "id": "QImobdX0tvL2"
      },
      "outputs": [],
      "source": [
        "# largest string\n",
        "\n",
        "str = \"hi bb this side\"\n",
        "l=0\n",
        "word=''\n",
        "for i in str.split(' '):\n",
        "  if len(i) >= l:\n",
        "    l= len(i)\n",
        "    word = i\n",
        "word"
      ]
    },
    {
      "cell_type": "code",
      "execution_count": null,
      "metadata": {
        "colab": {
          "base_uri": "https://localhost:8080/"
        },
        "id": "1BUTmjDkcpiS",
        "outputId": "d2aa0220-0689-467e-cf5c-48b54bec6031"
      },
      "outputs": [
        {
          "name": "stdout",
          "output_type": "stream",
          "text": [
            "1 1\n",
            "2 2\n",
            "6 3\n",
            "24 4\n",
            "120 5\n",
            "720 6\n",
            "5040 7\n",
            "40320 8\n"
          ]
        },
        {
          "data": {
            "text/plain": [
              "40320"
            ]
          },
          "execution_count": 57,
          "metadata": {},
          "output_type": "execute_result"
        }
      ],
      "source": [
        "# factorial\n",
        "ans=1\n",
        "for i in range(2,n+2):\n",
        "  # print(i-1)\n",
        "  k =i-1\n",
        "  ans = ans*k\n",
        "  print(ans,k)\n",
        "ans"
      ]
    },
    {
      "cell_type": "code",
      "execution_count": null,
      "metadata": {
        "colab": {
          "base_uri": "https://localhost:8080/"
        },
        "id": "m2baWY4qnz6c",
        "outputId": "8ca44f13-e610-433f-8b36-1e106510ec66"
      },
      "outputs": [
        {
          "name": "stdout",
          "output_type": "stream",
          "text": [
            "1\n",
            "2\n",
            "3\n",
            "4\n",
            "5\n",
            "6\n",
            "7\n",
            "8\n",
            "362880\n"
          ]
        }
      ],
      "source": [
        "# factorial\n",
        "factorial=1\n",
        "n= 9\n",
        "for i in range(1,9):\n",
        "  print(i)\n",
        "  factorial = factorial*(i+1)\n",
        "print(factorial)"
      ]
    },
    {
      "cell_type": "code",
      "execution_count": null,
      "metadata": {
        "colab": {
          "base_uri": "https://localhost:8080/"
        },
        "id": "wKow_NLDqA0O",
        "outputId": "e38bed38-7166-426e-d5f9-9344a95b47c3"
      },
      "outputs": [
        {
          "name": "stdout",
          "output_type": "stream",
          "text": [
            "0\n",
            "1\n",
            "2\n",
            "3\n",
            "4\n",
            "5\n",
            "6\n",
            "[3, 3, 4, 6, 6, 7, 8]\n"
          ]
        }
      ],
      "source": [
        "# write code to sort list\n",
        "\n",
        "l = [3,4,6,6,7,8,3]\n",
        "\n",
        "for i in range(0,len(l)):\n",
        "  print(i)\n",
        "  for j in range(i+1,len(l)):\n",
        "    if l[i]> l[j]:\n",
        "      l[i], l[j] = l[j], l[i]\n",
        "print(l)\n"
      ]
    },
    {
      "cell_type": "code",
      "execution_count": null,
      "metadata": {
        "colab": {
          "base_uri": "https://localhost:8080/"
        },
        "id": "-GGc-Ert22kB",
        "outputId": "300e1052-684b-4176-d01c-e85e490d84fc"
      },
      "outputs": [
        {
          "name": "stdout",
          "output_type": "stream",
          "text": [
            "9 6\n"
          ]
        }
      ],
      "source": [
        "# find median\n",
        "\n",
        "l = [3,4,6,6,7,8,3,6,2]\n",
        "for i in range(0,len(l)):\n",
        "  # print(i)\n",
        "  for j in range(i+1,len(l)):\n",
        "    if l[i]> l[j]:\n",
        "      l[i], l[j] = l[j], l[i]\n",
        "\n",
        "if len(l)%2 != 0:\n",
        "  median = l[round(len(l)/2)]\n",
        "else:\n",
        "  median = (l[round(len(l)/2)] + l[round(len(l)/2)+1])/2\n",
        "\n",
        "print(len(l),median)"
      ]
    },
    {
      "cell_type": "code",
      "execution_count": null,
      "metadata": {
        "id": "Mmbp-_xUqAay"
      },
      "outputs": [],
      "source": [
        "# # write code to find mode\n",
        "# lst = [3,4,6,6,7,8,3,6]\n",
        "# dict = {}\n",
        "\n",
        "\n",
        "# for i in range(0,len(lst)):\n",
        "#   cnt=1\n",
        "#   for j in range(i+1, len(lst)):\n",
        "#     if lst[i] == lst[j]:\n",
        "#       cnt= cnt +1\n",
        "#       print(lst[i], lst[j], cnt )\n",
        "#   print(cnt)\n",
        "#   dict[ lst[i] ] = cnt\n",
        "\n",
        "# # print(dict)\n",
        "\n",
        "# # for k,i in dict.items():\n",
        "# #   if i == max(list( dict.values() )):\n",
        "# #     print(k)\n",
        "\n"
      ]
    },
    {
      "cell_type": "code",
      "execution_count": null,
      "metadata": {
        "colab": {
          "base_uri": "https://localhost:8080/"
        },
        "id": "bg6axAfoubI4",
        "outputId": "51c6adbf-7760-421d-aaf0-54d363e978de"
      },
      "outputs": [
        {
          "name": "stdout",
          "output_type": "stream",
          "text": [
            "{'hi': 2, 'i': 1, 'am': 2, 'barkha': 6}\n"
          ]
        }
      ],
      "source": [
        "# Create a dictionary which counts the number of characters in a word.\n",
        "\n",
        "dct = {}\n",
        "\n",
        "l = 'hi i am barkha'\n",
        "\n",
        "for i in l.split():\n",
        "  dct[i] = len(i)\n",
        "print(dct)"
      ]
    },
    {
      "cell_type": "code",
      "execution_count": null,
      "metadata": {
        "colab": {
          "base_uri": "https://localhost:8080/"
        },
        "id": "a-K8ISklRg5r",
        "outputId": "0c423072-bd01-48e5-fb1d-922f102188c8"
      },
      "outputs": [
        {
          "output_type": "execute_result",
          "data": {
            "text/plain": [
              "3"
            ]
          },
          "metadata": {},
          "execution_count": 12
        }
      ],
      "source": [
        "len(m2)"
      ]
    },
    {
      "cell_type": "code",
      "execution_count": null,
      "metadata": {
        "colab": {
          "base_uri": "https://localhost:8080/"
        },
        "id": "ql2rYHnu5JcD",
        "outputId": "2d5c682b-8f85-4eb5-ee9b-0aed00bdc1da"
      },
      "outputs": [
        {
          "output_type": "execute_result",
          "data": {
            "text/plain": [
              "[[2, 0], [3, 0]]"
            ]
          },
          "metadata": {},
          "execution_count": 10
        }
      ],
      "source": [
        "# Multiply 2 Matrix.\n",
        "\n",
        "m1 = [[1,2,3],\n",
        "      [2,3,0]]\n",
        "m2 = [[0,0],\n",
        "      [1,0],\n",
        "      [0,0]]\n",
        "m3=[[0,0],\n",
        "    [0,0]]\n",
        "\n",
        "# print(m1,m2)\n",
        "\n",
        "for i in range(len(m1)):\n",
        "  for j in range(len(m2[0] )):\n",
        "    for k in range(len(m2)):\n",
        "      m3[i][j] += m1[i][k] * m2[k][j]\n",
        "      # result[i][j] += X[i][k] * Y[k][j]\n",
        "m3"
      ]
    },
    {
      "cell_type": "code",
      "execution_count": null,
      "metadata": {
        "id": "qCWiboYU7jMx",
        "colab": {
          "base_uri": "https://localhost:8080/"
        },
        "outputId": "09e1fac9-fa15-48d5-9532-187e4ed90ecc"
      },
      "outputs": [
        {
          "output_type": "stream",
          "name": "stdout",
          "text": [
            "0 5\n",
            "1 6\n"
          ]
        },
        {
          "output_type": "execute_result",
          "data": {
            "text/plain": [
              "[['machine', 'learning', 'nlp', 'deep', 'learn'],\n",
              " ['learning', 'nlp', 'deep', 'learn', 'word2vec']]"
            ]
          },
          "metadata": {},
          "execution_count": 1
        }
      ],
      "source": [
        "# generate n grams\n",
        "\n",
        "sent = 'machine learning nlp deep learn word2vec'\n",
        "n= 5\n",
        "lst = []\n",
        "\n",
        "for i in range(0, len(sent.split())-n+1 ):\n",
        "  lst.append(sent.split()[i:n])\n",
        "  print(i,n)\n",
        "  n=n+1\n",
        "lst"
      ]
    },
    {
      "cell_type": "code",
      "source": [
        "# you are given a character string A having length N.\n",
        "# You have to find the character having maximum number of occurrences in the string and return its ASCII code.\n",
        "# If there are multiple such characters, then return the ASCII code having least value.\n",
        "\n",
        "A = \"aabbccc\"\n",
        "\n",
        "v= -1\n",
        "d = {}\n",
        "\n",
        "for i in range(len(A)):\n",
        "  # print( ord(A[i]))\n",
        "  if ord(A[i]) in d.keys() :\n",
        "    v = v - 1\n",
        "    d.update({ord(A[i]): v   })\n",
        "  else:\n",
        "    d.update({ord(A[i]):  v  })\n",
        "    v= -1\n",
        "\n",
        "print(d)\n",
        "\n",
        "ls = []\n",
        "minn = min(d.values())\n",
        "for i in d:\n",
        "  if d[i] == minn:\n",
        "    ls.append(i)\n",
        "print(min(ls))"
      ],
      "metadata": {
        "id": "4qUd4dymcaM5",
        "colab": {
          "base_uri": "https://localhost:8080/"
        },
        "outputId": "4eb2b541-7831-44a3-9cbf-f4c117018976"
      },
      "execution_count": 85,
      "outputs": [
        {
          "output_type": "stream",
          "name": "stdout",
          "text": [
            "{97: -2, 98: -2, 99: -3}\n",
            "99\n"
          ]
        }
      ]
    },
    {
      "cell_type": "code",
      "source": [
        "# Given an array X, the value of gamma and beta. Perform Batch Normalization on array X.\n",
        "\n",
        "# Use the formulas below to compute the X_updated array.\n",
        "\n",
        "# n -> size of X\n",
        "# mu -> mean of array X\n",
        "# sig -> standard deviation of array X\n",
        "# standard-deviance = sqrt ( sum[ (Xi - mu)2 ] / n-1 )\n",
        "# X_standardised = (Xi - mu)/sig\n",
        "# X_updated = gamma*X_standardised + beta\n",
        "# Return the X_updated array.\n",
        "\n",
        "n = 8\n",
        "x = [1, 3, 2, 5, 7, 3, 2, 4]\n",
        "g = 2\n",
        "b = 1\n",
        "\n",
        "import numpy as np\n",
        "x_ar = np.array(x)\n",
        "m = sum(x_ar)/n\n",
        "\n",
        "s = np.sqrt((np.sum( np.square(x_ar- m) )/ (n-1)))\n",
        "\n",
        "# ss = np.std(x_ar) this is different sd from above manual formula\n",
        "x_s = (x_ar - m)/s\n",
        "x_f = np.around( g*x_s + b, 2)\n",
        "x_f\n"
      ],
      "metadata": {
        "id": "iJrWpal8pyYk",
        "colab": {
          "base_uri": "https://localhost:8080/"
        },
        "outputId": "1c2e9602-95d4-407e-cddf-07b552bcde04"
      },
      "execution_count": 109,
      "outputs": [
        {
          "output_type": "execute_result",
          "data": {
            "text/plain": [
              "array([-1.47,  0.61, -0.43,  2.69,  4.77,  0.61, -0.43,  1.65])"
            ]
          },
          "metadata": {},
          "execution_count": 109
        }
      ]
    },
    {
      "cell_type": "code",
      "source": [
        "# You teach a class of students. You plan to make a pair where you want to pair 2 of your students who live closest to each other. The map along with the coordinates of each student's house is available to you. Can you find the students whom you can pair? You are given 2 lists containing the students name and locations. Manhattan Distance will be used to calculate the distance between 2 points.\n",
        "# Manhattan Distance between 2 points (x1,y1) and (x2,y2) is given by |x1-x2| + |y1-y2|.\n",
        "\n",
        "names = ['Adam','Millie','Jacob','Michael','Maxine']\n",
        "loc = [(1,2),(5,4),(0,3),(2,3),(0,0)]\n",
        "\n",
        "# Example Output: [‘Adam’,‘Jacob’]\n",
        "\n",
        "d = {}\n",
        "for i in range(len(names)):\n",
        "  for j in range(i+1,len(names)):\n",
        "    m =  abs(loc[i][0] - loc[j][0]) + abs(loc[i][1] - loc[j][1])\n",
        "    if m in d:\n",
        "      d[m].extend([[names[i], names[j]]])\n",
        "    else:\n",
        "      d[m] = [[names[i], names[j]]]\n",
        "    # print(i,j,loc[i], loc[j], m, d)\n",
        "\n",
        "minn = min(d.keys())\n",
        "print(d )\n",
        "print(minn,d[minn][0])"
      ],
      "metadata": {
        "colab": {
          "base_uri": "https://localhost:8080/"
        },
        "id": "htMUb1SchHii",
        "outputId": "223cb14a-9b38-4ebf-9485-2fb5c65671e7"
      },
      "execution_count": 135,
      "outputs": [
        {
          "output_type": "stream",
          "name": "stdout",
          "text": [
            "{6: [['Adam', 'Millie'], ['Millie', 'Jacob']], 2: [['Adam', 'Jacob'], ['Adam', 'Michael'], ['Jacob', 'Michael']], 3: [['Adam', 'Maxine'], ['Jacob', 'Maxine']], 4: [['Millie', 'Michael']], 9: [['Millie', 'Maxine']], 5: [['Michael', 'Maxine']]}\n",
            "2 ['Adam', 'Jacob']\n"
          ]
        }
      ]
    },
    {
      "cell_type": "code",
      "source": [],
      "metadata": {
        "id": "A6v7iHemh_UW"
      },
      "execution_count": null,
      "outputs": []
    }
  ],
  "metadata": {
    "colab": {
      "provenance": [],
      "authorship_tag": "ABX9TyPBL1r/2+i2c5zA4mmlUJdg",
      "include_colab_link": true
    },
    "kernelspec": {
      "display_name": "Python 3",
      "name": "python3"
    },
    "language_info": {
      "name": "python"
    }
  },
  "nbformat": 4,
  "nbformat_minor": 0
}