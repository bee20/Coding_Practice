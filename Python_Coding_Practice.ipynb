{
  "nbformat": 4,
  "nbformat_minor": 0,
  "metadata": {
    "colab": {
      "provenance": [],
      "authorship_tag": "ABX9TyPZpQYj/3ADmubptDpA0h4g",
      "include_colab_link": true
    },
    "kernelspec": {
      "name": "python3",
      "display_name": "Python 3"
    },
    "language_info": {
      "name": "python"
    }
  },
  "cells": [
    {
      "cell_type": "markdown",
      "metadata": {
        "id": "view-in-github",
        "colab_type": "text"
      },
      "source": [
        "<a href=\"https://colab.research.google.com/github/bee20/Coding_Practice/blob/main/Python_Coding_Practice.ipynb\" target=\"_parent\"><img src=\"https://colab.research.google.com/assets/colab-badge.svg\" alt=\"Open In Colab\"/></a>"
      ]
    },
    {
      "cell_type": "code",
      "source": [
        "#find missing number -> O(n^2) complexity\n",
        "l = [3,4,6,7,10]\n",
        "\n",
        "l2 = []\n",
        "for i in range(l[0],l[-1]+1):\n",
        "  l2.append(i)\n",
        "# print(l2)\n",
        "\n",
        "l3 = []\n",
        "for j in l2:\n",
        "  if j not in l:\n",
        "    l3.append(j)\n",
        "print(l3)\n"
      ],
      "metadata": {
        "id": "rYCcNSYOqClc",
        "colab": {
          "base_uri": "https://localhost:8080/"
        },
        "outputId": "414df187-ad1e-4e2c-ab1f-64c64c8b782e"
      },
      "execution_count": null,
      "outputs": [
        {
          "output_type": "stream",
          "name": "stdout",
          "text": [
            "[5, 8, 9]\n"
          ]
        }
      ]
    },
    {
      "cell_type": "code",
      "source": [
        "#find missing number -> O(n)complexity\n",
        "lst = [3,4,6,7,10]\n",
        "n = len(lst)\n",
        "b=[0]*(lst[ n-1]+1)\n",
        "\n",
        "for i in range(n):\n",
        "  # print(b[lst[i] ])\n",
        "  b[lst[i] ]=1\n",
        "\n",
        "for i in range(lst[0],lst[n-1]+1):\n",
        "  if b[i]==0:\n",
        "    print(i,end=\" \")"
      ],
      "metadata": {
        "colab": {
          "base_uri": "https://localhost:8080/"
        },
        "id": "OAB-6l97VFhn",
        "outputId": "83cdef30-97fc-4d31-aeda-3bc5737538be"
      },
      "execution_count": null,
      "outputs": [
        {
          "output_type": "stream",
          "name": "stdout",
          "text": [
            "5 8 9 "
          ]
        }
      ]
    },
    {
      "cell_type": "code",
      "source": [
        "# largest string\n",
        "\n",
        "str = \"hi bb this side\"\n",
        "l=0\n",
        "word=''\n",
        "for i in str.split(' '):\n",
        "  if len(i) >= l:\n",
        "    l= len(i)\n",
        "    word = i\n",
        "word"
      ],
      "metadata": {
        "id": "QImobdX0tvL2"
      },
      "execution_count": null,
      "outputs": []
    },
    {
      "cell_type": "code",
      "source": [
        "# factorial\n",
        "ans=1\n",
        "for i in range(2,n+2):\n",
        "  # print(i-1)\n",
        "  k =i-1\n",
        "  ans = ans*k\n",
        "  print(ans,k)\n",
        "ans"
      ],
      "metadata": {
        "colab": {
          "base_uri": "https://localhost:8080/"
        },
        "id": "1BUTmjDkcpiS",
        "outputId": "d2aa0220-0689-467e-cf5c-48b54bec6031"
      },
      "execution_count": null,
      "outputs": [
        {
          "output_type": "stream",
          "name": "stdout",
          "text": [
            "1 1\n",
            "2 2\n",
            "6 3\n",
            "24 4\n",
            "120 5\n",
            "720 6\n",
            "5040 7\n",
            "40320 8\n"
          ]
        },
        {
          "output_type": "execute_result",
          "data": {
            "text/plain": [
              "40320"
            ]
          },
          "metadata": {},
          "execution_count": 57
        }
      ]
    },
    {
      "cell_type": "code",
      "source": [
        "# factorial\n",
        "factorial=1\n",
        "n= 9\n",
        "for i in range(1,9):\n",
        "  print(i)\n",
        "  factorial = factorial*(i+1)\n",
        "print(factorial)"
      ],
      "metadata": {
        "colab": {
          "base_uri": "https://localhost:8080/"
        },
        "id": "m2baWY4qnz6c",
        "outputId": "8ca44f13-e610-433f-8b36-1e106510ec66"
      },
      "execution_count": 4,
      "outputs": [
        {
          "output_type": "stream",
          "name": "stdout",
          "text": [
            "1\n",
            "2\n",
            "3\n",
            "4\n",
            "5\n",
            "6\n",
            "7\n",
            "8\n",
            "362880\n"
          ]
        }
      ]
    },
    {
      "cell_type": "code",
      "source": [
        "# write code to sort list\n",
        "\n",
        "l = [3,4,6,6,7,8,3]\n",
        "\n",
        "for i in range(0,len(l)):\n",
        "  print(i)\n",
        "  for j in range(i+1,len(l)):\n",
        "    if l[i]> l[j]:\n",
        "      l[i], l[j] = l[j], l[i]\n",
        "print(l)\n"
      ],
      "metadata": {
        "id": "wKow_NLDqA0O",
        "colab": {
          "base_uri": "https://localhost:8080/"
        },
        "outputId": "e38bed38-7166-426e-d5f9-9344a95b47c3"
      },
      "execution_count": 10,
      "outputs": [
        {
          "output_type": "stream",
          "name": "stdout",
          "text": [
            "0\n",
            "1\n",
            "2\n",
            "3\n",
            "4\n",
            "5\n",
            "6\n",
            "[3, 3, 4, 6, 6, 7, 8]\n"
          ]
        }
      ]
    },
    {
      "cell_type": "code",
      "source": [
        "# find median\n",
        "\n",
        "l = [3,4,6,6,7,8,3,6,2]\n",
        "for i in range(0,len(l)):\n",
        "  # print(i)\n",
        "  for j in range(i+1,len(l)):\n",
        "    if l[i]> l[j]:\n",
        "      l[i], l[j] = l[j], l[i]\n",
        "\n",
        "if len(l)%2 != 0:\n",
        "  median = l[round(len(l)/2)]\n",
        "else:\n",
        "  median = (l[round(len(l)/2)] + l[round(len(l)/2)+1])/2\n",
        "\n",
        "print(len(l),median)"
      ],
      "metadata": {
        "colab": {
          "base_uri": "https://localhost:8080/"
        },
        "id": "-GGc-Ert22kB",
        "outputId": "300e1052-684b-4176-d01c-e85e490d84fc"
      },
      "execution_count": 53,
      "outputs": [
        {
          "output_type": "stream",
          "name": "stdout",
          "text": [
            "9 6\n"
          ]
        }
      ]
    },
    {
      "cell_type": "code",
      "source": [
        "# # write code to find mode\n",
        "# lst = [3,4,6,6,7,8,3,6]\n",
        "# dict = {}\n",
        "\n",
        "\n",
        "# for i in range(0,len(lst)):\n",
        "#   cnt=1\n",
        "#   for j in range(i+1, len(lst)):\n",
        "#     if lst[i] == lst[j]:\n",
        "#       cnt= cnt +1\n",
        "#       print(lst[i], lst[j], cnt )\n",
        "#   print(cnt)\n",
        "#   dict[ lst[i] ] = cnt\n",
        "\n",
        "# # print(dict)\n",
        "\n",
        "# # for k,i in dict.items():\n",
        "# #   if i == max(list( dict.values() )):\n",
        "# #     print(k)\n",
        "\n"
      ],
      "metadata": {
        "id": "Mmbp-_xUqAay"
      },
      "execution_count": 46,
      "outputs": []
    },
    {
      "cell_type": "code",
      "source": [],
      "metadata": {
        "id": "bg6axAfoubI4"
      },
      "execution_count": null,
      "outputs": []
    }
  ]
}